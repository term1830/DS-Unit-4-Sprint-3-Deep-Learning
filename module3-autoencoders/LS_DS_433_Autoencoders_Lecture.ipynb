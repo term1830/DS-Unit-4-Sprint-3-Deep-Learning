{
  "nbformat": 4,
  "nbformat_minor": 0,
  "metadata": {
    "kernelspec": {
      "display_name": "U4-S3-DNN (Python 3.7)",
      "language": "python",
      "name": "u4-s3-dnn"
    },
    "language_info": {
      "codemirror_mode": {
        "name": "ipython",
        "version": 3
      },
      "file_extension": ".py",
      "mimetype": "text/x-python",
      "name": "python",
      "nbconvert_exporter": "python",
      "pygments_lexer": "ipython3",
      "version": "3.7.3"
    },
    "colab": {
      "name": "LS_DS_433_Autoencoders_Lecture.ipynb",
      "provenance": []
    }
  },
  "cells": [
    {
      "cell_type": "markdown",
      "metadata": {
        "id": "Z5osKTr3CnRb",
        "colab_type": "text"
      },
      "source": [
        "Lambda School Data Science\n",
        "\n",
        "*Unit 4, Sprint 3, Module 3*\n",
        "\n",
        "---"
      ]
    },
    {
      "cell_type": "markdown",
      "metadata": {
        "id": "YtAqcG51CnRe",
        "colab_type": "text"
      },
      "source": [
        "# Autoencoders\n",
        "\n",
        "> An autoencoder is a type of artificial neural network used to learn efficient data codings in an unsupervised manner.[1][2] The aim of an autoencoder is to learn a representation (encoding) for a set of data, typically for dimensionality reduction, by training the network to ignore signal “noise”. Along with the reduction side, a reconstructing side is learnt, where the autoencoder tries to generate from the reduced encoding a representation as close as possible to its original input, hence its name. "
      ]
    },
    {
      "cell_type": "markdown",
      "metadata": {
        "id": "EEXXYehlCnRg",
        "colab_type": "text"
      },
      "source": [
        "## Learning Objectives\n",
        "*At the end of the lecture you should be to*:\n",
        "* <a href=\"#p1\">Part 1</a>: Describe the componenets of an autoencoder\n",
        "* <a href=\"#p2\">Part 2</a>: Train an autoencoder\n",
        "* <a href=\"#p3\">Part 3</a>: Apply an autoenocder to a basic information retrieval problem\n",
        "\n",
        "__Problem:__ Is it possible to automatically represent an image as a fixed-sized vector even if it isn’t labeled?\n",
        "\n",
        "__Solution:__ Use an autoencoder\n",
        "\n",
        "Why do we need to represent an image as a fixed-sized vector do you ask? \n",
        "\n",
        "* __Information Retrieval__\n",
        "    - [Reverse Image Search](https://en.wikipedia.org/wiki/Reverse_image_search)\n",
        "    - [Recommendation Systems - Content Based Filtering](https://en.wikipedia.org/wiki/Recommender_system#Content-based_filtering)\n",
        "* __Dimensionality Reduction__\n",
        "    - [Feature Extraction](https://www.kaggle.com/c/vsb-power-line-fault-detection/discussion/78285)\n",
        "    - [Manifold Learning](https://en.wikipedia.org/wiki/Nonlinear_dimensionality_reduction)\n",
        "\n",
        "We've already seen *representation learning* when we talked about word embedding modelings during our NLP week. Today we're going to achieve a similiar goal on images using *autoencoders*. An autoencoder is a neural network that is trained to attempt to copy its input to its output. Usually they are restricted in ways that allow them to copy only approximately. The model often learns useful properties of the data, because it is forced to prioritize which aspecs of the input should be copied. The properties of autoencoders have made them an important part of modern generative modeling approaches. Consider autoencoders a special case of feed-forward networks (the kind we've been studying); backpropagation and gradient descent still work. "
      ]
    },
    {
      "cell_type": "markdown",
      "metadata": {
        "id": "Cu-r6vI4CnRi",
        "colab_type": "text"
      },
      "source": [
        "# Autoencoder Architecture (Learn)\n",
        "<a id=\"p1\"></a>"
      ]
    },
    {
      "cell_type": "markdown",
      "metadata": {
        "id": "Le9Zkx2jCnRl",
        "colab_type": "text"
      },
      "source": [
        "## Overview\n",
        "\n",
        "The *encoder* compresses the input data and the *decoder* does the reverse to produce the uncompressed version of the data to create a reconstruction of the input as accurately as possible:\n",
        "\n",
        "<img src='https://miro.medium.com/max/1400/1*44eDEuZBEsmG_TCAKRI3Kw@2x.png' width=800/>\n",
        "\n",
        "The learning process gis described simply as minimizing a loss function: \n",
        "$ L(x, g(f(x))) $\n",
        "\n",
        "- $L$ is a loss function penalizing $g(f(x))$ for being dissimiliar from $x$ (such as mean squared error)\n",
        "- $f$ is the encoder function\n",
        "- $g$ is the decoder function"
      ]
    },
    {
      "cell_type": "markdown",
      "metadata": {
        "id": "-HRp0o2zCnRl",
        "colab_type": "text"
      },
      "source": [
        "## Follow Along\n",
        "### Extremely Simple Autoencoder"
      ]
    },
    {
      "cell_type": "code",
      "metadata": {
        "id": "u-0JBK36CnRy",
        "colab_type": "code",
        "colab": {}
      },
      "source": [
        "%load_ext tensorboard"
      ],
      "execution_count": null,
      "outputs": []
    },
    {
      "cell_type": "code",
      "metadata": {
        "id": "hClFQf1MDAtF",
        "colab_type": "code",
        "colab": {}
      },
      "source": [
        "import tensorflow as tf\n",
        "import numpy as np\n",
        "import os\n",
        "\n",
        "URL_ = \"https://github.com/LambdaSchool/DS-Unit-4-Sprint-2-Neural-Networks/blob/main/quickdraw10.npz?raw=true\"\n",
        "\n",
        "path_to_zip = tf.keras.utils.get_file('./quickdraw10.npz', origin=URL_, extract=False)"
      ],
      "execution_count": null,
      "outputs": []
    },
    {
      "cell_type": "code",
      "metadata": {
        "id": "Lwc82kH4CnR5",
        "colab_type": "code",
        "colab": {}
      },
      "source": [
        "data = np.load(path_to_zip)\n",
        "\n",
        "X_train = data['arr_0']\n",
        "y_train = data['arr_1']\n",
        "\n",
        "print(X_train.shape)\n",
        "print(y_train.shape)"
      ],
      "execution_count": null,
      "outputs": []
    },
    {
      "cell_type": "code",
      "metadata": {
        "id": "AoAd1eY-CnSA",
        "colab_type": "code",
        "colab": {}
      },
      "source": [
        "class_names = ['apple',\n",
        " 'anvil',\n",
        " 'airplane',\n",
        " 'banana',\n",
        " 'The Eiffel Tower',\n",
        " 'The Mona Lisa',\n",
        " 'The Great Wall of China',\n",
        " 'alarm clock',\n",
        " 'ant',\n",
        " 'asparagus']"
      ],
      "execution_count": null,
      "outputs": []
    },
    {
      "cell_type": "code",
      "metadata": {
        "id": "LpuQOvIOCnSF",
        "colab_type": "code",
        "colab": {}
      },
      "source": [
        "import matplotlib.pyplot as plt\n",
        "plt.figure(figsize=(10,5))\n",
        "start = 0\n",
        "\n",
        "for num, name in enumerate(class_names):\n",
        "    plt.subplot(2,5, num+1)\n",
        "    plt.xticks([])\n",
        "    plt.yticks([])\n",
        "    plt.grid(False)\n",
        "    plt.imshow(X_train[start].reshape(28,28), cmap=plt.cm.binary)\n",
        "    plt.xlabel(name)\n",
        "    start += 10000\n",
        "plt.show()"
      ],
      "execution_count": null,
      "outputs": []
    },
    {
      "cell_type": "code",
      "metadata": {
        "id": "8DCNnW2uCnSL",
        "colab_type": "code",
        "colab": {}
      },
      "source": [
        "from sklearn.utils import shuffle\n",
        "X_train, y_train = shuffle(X_train, y_train)"
      ],
      "execution_count": null,
      "outputs": []
    },
    {
      "cell_type": "code",
      "metadata": {
        "id": "2Yp5d5jnDU2d",
        "colab_type": "code",
        "colab": {}
      },
      "source": [
        "from tensorflow.keras.layers import Input, Dense\n",
        "from tensorflow.keras.models import Model\n",
        "from tensorflow.keras.callbacks import EarlyStopping, TensorBoard\n",
        "\n",
        "# this is the size of our encoded representations\n",
        "encoding_dim = 32  # 32 floats -> compression of factor 24.5, assuming the input is 784 floats\n",
        "\n",
        "# this is our input placeholder\n",
        "input_img = Input(shape=(784,))\n",
        "\n",
        "# \"encoded\" is the encoded representation of the input\n",
        "encoded = Dense(encoding_dim, activation='relu')(input_img)\n",
        "\n",
        "# \"decoded\" is the lossy reconstruction of the input\n",
        "decoded = Dense(784, activation='sigmoid')(encoded)\n",
        "\n",
        "# this model maps an input to its reconstruction\n",
        "autoencoder = Model(input_img, decoded)"
      ],
      "execution_count": null,
      "outputs": []
    },
    {
      "cell_type": "code",
      "metadata": {
        "id": "3gCnfmXQDYkZ",
        "colab_type": "code",
        "colab": {}
      },
      "source": [
        "# this model maps an input to its encoded representation\n",
        "encoder = Model(input_img, encoded)"
      ],
      "execution_count": null,
      "outputs": []
    },
    {
      "cell_type": "code",
      "metadata": {
        "id": "x-JwESQ-DaUp",
        "colab_type": "code",
        "colab": {}
      },
      "source": [
        "autoencoder.compile(optimizer='nadam', loss='binary_crossentropy')"
      ],
      "execution_count": null,
      "outputs": []
    },
    {
      "cell_type": "code",
      "metadata": {
        "id": "M-f8wok1Db2A",
        "colab_type": "code",
        "colab": {}
      },
      "source": [
        "X_train = X_train.astype('float32') / 255.\n",
        "print(X_train.shape)"
      ],
      "execution_count": null,
      "outputs": []
    },
    {
      "cell_type": "code",
      "metadata": {
        "id": "fahm2CjBDg7k",
        "colab_type": "code",
        "colab": {}
      },
      "source": [
        "import os\n",
        "import datetime\n",
        "\n",
        "from tensorflow.keras.callbacks import TensorBoard\n",
        "# tf.keras.callbacks.TesnorBoard()\n",
        "\n",
        "stop = EarlyStopping(monitor='val_loss', min_delta=0.001, patience=2)\n",
        "now = datetime.datetime.now().strftime(\"%Y%m%d-%H%M%S\")\n",
        "\n",
        "logdir = os.path.join(\"logs\", f\"SimpleAutoencoder-{now}\")\n",
        "tensorboard = TensorBoard(log_dir=logdir)\n",
        "\n",
        "autoencoder.fit(X_train, X_train,  # X_train twice!\n",
        "                epochs=10000,\n",
        "                batch_size=64,\n",
        "                shuffle=True,\n",
        "                validation_split=.2,\n",
        "                verbose = True,\n",
        "                callbacks=[stop, tensorboard])"
      ],
      "execution_count": null,
      "outputs": []
    },
    {
      "cell_type": "code",
      "metadata": {
        "id": "ZWHFevSPDl60",
        "colab_type": "code",
        "colab": {}
      },
      "source": [
        "%tensorboard --logdir ./logs"
      ],
      "execution_count": null,
      "outputs": []
    },
    {
      "cell_type": "code",
      "metadata": {
        "id": "5mSjOSXWDolk",
        "colab_type": "code",
        "colab": {}
      },
      "source": [
        "# encode and decode some digits\n",
        "\n",
        "decoded_imgs = autoencoder(X_train)"
      ],
      "execution_count": null,
      "outputs": []
    },
    {
      "cell_type": "code",
      "metadata": {
        "id": "b_jzwe0nDp86",
        "colab_type": "code",
        "colab": {}
      },
      "source": [
        "# use Matplotlib (don't ask)\n",
        "import matplotlib.pyplot as plt\n",
        "\n",
        "n = 10  # how many digits we will display\n",
        "plt.figure(figsize=(20, 4))\n",
        "for i in range(n):\n",
        "    # display original\n",
        "    ax = plt.subplot(2, n, i + 1)\n",
        "    plt.imshow(X_train[i].reshape(28, 28))\n",
        "    plt.gray()\n",
        "    ax.get_xaxis().set_visible(False)\n",
        "    ax.get_yaxis().set_visible(False)\n",
        "\n",
        "    # display reconstruction\n",
        "    ax = plt.subplot(2, n, i + 1 + n)\n",
        "    plt.imshow(decoded_imgs[i].numpy().reshape(28, 28))\n",
        "    plt.gray()\n",
        "    ax.get_xaxis().set_visible(False)\n",
        "    ax.get_yaxis().set_visible(False)\n",
        "plt.show()"
      ],
      "execution_count": null,
      "outputs": []
    },
    {
      "cell_type": "markdown",
      "metadata": {
        "id": "e8FRP87jCnSw",
        "colab_type": "text"
      },
      "source": [
        "## Challenge\n",
        "\n",
        "Expected to talk about the components of autoencoder and their purpose. "
      ]
    },
    {
      "cell_type": "markdown",
      "metadata": {
        "id": "WYEjrxySCnSx",
        "colab_type": "text"
      },
      "source": [
        "# Train an Autoencoder (Learn)\n",
        "<a id=\"p2\"></a>"
      ]
    },
    {
      "cell_type": "markdown",
      "metadata": {
        "id": "IXGgMJIvCnSx",
        "colab_type": "text"
      },
      "source": [
        "## Overview\n",
        "\n",
        "As long as our architecture maintains an hourglass shape, we can continue to add layers and create a deeper network. "
      ]
    },
    {
      "cell_type": "markdown",
      "metadata": {
        "toc-hr-collapsed": true,
        "id": "PLh1jdp1CnSy",
        "colab_type": "text"
      },
      "source": [
        "## Follow Along"
      ]
    },
    {
      "cell_type": "markdown",
      "metadata": {
        "id": "l414gL91CnSz",
        "colab_type": "text"
      },
      "source": [
        "### Deep Autoencoder"
      ]
    },
    {
      "cell_type": "code",
      "metadata": {
        "id": "SRxozSvYCnSz",
        "colab_type": "code",
        "colab": {}
      },
      "source": [
        "input_img = Input(shape=(784,))\n"
      ],
      "execution_count": null,
      "outputs": []
    },
    {
      "cell_type": "code",
      "metadata": {
        "id": "z8BVgVl-CnS5",
        "colab_type": "code",
        "colab": {}
      },
      "source": [
        "# compile & fit model"
      ],
      "execution_count": null,
      "outputs": []
    },
    {
      "cell_type": "code",
      "metadata": {
        "id": "HcC6nGqKCnS9",
        "colab_type": "code",
        "colab": {}
      },
      "source": [
        "# use Matplotlib (don't ask)\n",
        "import matplotlib.pyplot as plt\n",
        "\n",
        "n = 10  # how many digits we will display\n",
        "plt.figure(figsize=(20, 4))\n",
        "for i in range(n):\n",
        "    # display original\n",
        "    ax = plt.subplot(2, n, i + 1)\n",
        "    plt.imshow(x_test[i].reshape(28, 28))\n",
        "    plt.gray()\n",
        "    ax.get_xaxis().set_visible(False)\n",
        "    ax.get_yaxis().set_visible(False)\n",
        "\n",
        "    # display reconstruction\n",
        "    ax = plt.subplot(2, n, i + 1 + n)\n",
        "    plt.imshow(decoded_imgs[i].reshape(28, 28))\n",
        "    plt.gray()\n",
        "    ax.get_xaxis().set_visible(False)\n",
        "    ax.get_yaxis().set_visible(False)\n",
        "plt.show()"
      ],
      "execution_count": null,
      "outputs": []
    },
    {
      "cell_type": "markdown",
      "metadata": {
        "toc-hr-collapsed": true,
        "id": "oQKWFNDLCnTB",
        "colab_type": "text"
      },
      "source": [
        "### Convolutional autoencoder\n",
        "\n",
        "> Since our inputs are images, it makes sense to use convolutional neural networks (convnets) as encoders and decoders. In practical settings, autoencoders applied to images are always convolutional autoencoders --they simply perform much better.\n",
        "\n",
        "> Let's implement one. The encoder will consist in a stack of Conv2D and MaxPooling2D layers (max pooling being used for spatial down-sampling), while the decoder will consist in a stack of Conv2D and UpSampling2D layers."
      ]
    },
    {
      "cell_type": "code",
      "metadata": {
        "id": "iSY-9koWCnTD",
        "colab_type": "code",
        "colab": {}
      },
      "source": [
        "from keras.layers import Input, Dense, Conv2D, MaxPooling2D, UpSampling2D\n",
        "from keras.models import Model\n",
        "from keras import backend as K\n",
        "\n",
        "# Create Model \n",
        "\n",
        "autoencoder.compile(optimizer='adadelta', loss='binary_crossentropy')"
      ],
      "execution_count": null,
      "outputs": []
    },
    {
      "cell_type": "code",
      "metadata": {
        "id": "FFfOK2A_CnTG",
        "colab_type": "code",
        "colab": {}
      },
      "source": [
        "from keras.datasets import mnist\n",
        "import numpy as np\n",
        "\n",
        "(x_train, _), (x_test, _) = mnist.load_data()\n",
        "\n",
        "x_train = x_train.astype('float32') / 255.\n",
        "x_test = x_test.astype('float32') / 255.\n",
        "x_train = np.reshape(x_train, (len(x_train), 28, 28, 1))  # adapt this if using `channels_first` image data format\n",
        "x_test = np.reshape(x_test, (len(x_test), 28, 28, 1))  # adapt this if using `channels_first` image data format"
      ],
      "execution_count": null,
      "outputs": []
    },
    {
      "cell_type": "code",
      "metadata": {
        "id": "Ynz1wNb9CnTM",
        "colab_type": "code",
        "colab": {}
      },
      "source": [
        "import os\n",
        "import datetime\n",
        "\n",
        "stop = EarlyStopping(monitor=..., min_delta=0.001, patience=2)\n",
        "\n",
        "logdir = os.path.join(\"logs\", datetime.datetime.now().strftime(\"%Y%m%d-%H%M%S\"))\n",
        "tensorboard = Tensorboard(log_dir=logdir)\n",
        "\n",
        "autoencoder.fit(..., ...,\n",
        "                epochs=10000,\n",
        "                batch_size=64,\n",
        "                shuffle=True,\n",
        "                validation_data=(..., ...),\n",
        "                verbose = False,\n",
        "                callbacks=...)"
      ],
      "execution_count": null,
      "outputs": []
    },
    {
      "cell_type": "code",
      "metadata": {
        "id": "EWzO9eQUCnTS",
        "colab_type": "code",
        "colab": {}
      },
      "source": [
        "decoded_imgs = autoencoder.predict(x_test)\n",
        "\n",
        "n = 10\n",
        "plt.figure(figsize=(20, 4))\n",
        "for i in range(n):\n",
        "    # display original\n",
        "    ax = plt.subplot(2, n, i)\n",
        "    plt.imshow(x_test[i].reshape(28, 28))\n",
        "    plt.gray()\n",
        "    ax.get_xaxis().set_visible(False)\n",
        "    ax.get_yaxis().set_visible(False)\n",
        "\n",
        "    # display reconstruction\n",
        "    ax = plt.subplot(2, n, i + n)\n",
        "    plt.imshow(decoded_imgs[i].reshape(28, 28))\n",
        "    plt.gray()\n",
        "    ax.get_xaxis().set_visible(False)\n",
        "    ax.get_yaxis().set_visible(False)\n",
        "plt.show()"
      ],
      "execution_count": null,
      "outputs": []
    },
    {
      "cell_type": "markdown",
      "metadata": {
        "id": "DIAClBUwCnTV",
        "colab_type": "text"
      },
      "source": [
        "#### Visualization of the Representations"
      ]
    },
    {
      "cell_type": "code",
      "metadata": {
        "id": "bu2z5TGyCnTW",
        "colab_type": "code",
        "colab": {}
      },
      "source": [
        "encoder = Model(input_img, encoded)\n",
        "encoder.predict(x_train)\n",
        "\n",
        "n = 10\n",
        "plt.figure(figsize=(20, 8))\n",
        "for i in range(n):\n",
        "    ax = plt.subplot(1, n, i)\n",
        "    plt.imshow(encoded_imgs[i].reshape(4, 4 * 8).T)\n",
        "    plt.gray()\n",
        "    ax.get_xaxis().set_visible(False)\n",
        "    ax.get_yaxis().set_visible(False)\n",
        "plt.show()"
      ],
      "execution_count": null,
      "outputs": []
    },
    {
      "cell_type": "markdown",
      "metadata": {
        "id": "kWk01C13CnTa",
        "colab_type": "text"
      },
      "source": [
        "## Challenge\n",
        "\n",
        "You will train an autoencoder at some point in the near future. "
      ]
    },
    {
      "cell_type": "markdown",
      "metadata": {
        "id": "MGZVL11gCnTa",
        "colab_type": "text"
      },
      "source": [
        "# Information Retrieval with Autoencoders (Learn)\n",
        "<a id=\"p3\"></a>"
      ]
    },
    {
      "cell_type": "markdown",
      "metadata": {
        "id": "zqHVvXDqCnTb",
        "colab_type": "text"
      },
      "source": [
        "## Overview\n",
        "\n",
        "A common usecase for autoencoders is for reverse image search. Let's try to draw an image and see what's most similiar in our dataset. \n",
        "\n",
        "To accomplish this we will need to slice our autoendoer in half to extract our reduced features. :) "
      ]
    },
    {
      "cell_type": "markdown",
      "metadata": {
        "id": "8vvNdHfuCnTc",
        "colab_type": "text"
      },
      "source": [
        "## Follow Along"
      ]
    },
    {
      "cell_type": "code",
      "metadata": {
        "id": "5-Ip2960CnTd",
        "colab_type": "code",
        "colab": {}
      },
      "source": [
        "encoder = Model(input_img, encoded)\n",
        "encoded_imgs = encoder.predict(x_train)"
      ],
      "execution_count": null,
      "outputs": []
    },
    {
      "cell_type": "code",
      "metadata": {
        "id": "_Z-RB0FHCnTi",
        "colab_type": "code",
        "colab": {}
      },
      "source": [
        "encoded_imgs[0].T"
      ],
      "execution_count": null,
      "outputs": []
    },
    {
      "cell_type": "code",
      "metadata": {
        "id": "hYTiGQpfCnTm",
        "colab_type": "code",
        "colab": {}
      },
      "source": [
        "from sklearn.neighbors import NearestNeighbors\n",
        "\n",
        "nn = NearestNeighbors(n_neighbors=10, algorithm='ball_tree')\n",
        "nn.fit(encoded_imgs)"
      ],
      "execution_count": null,
      "outputs": []
    },
    {
      "cell_type": "code",
      "metadata": {
        "id": "qii2tvxyCnTq",
        "colab_type": "code",
        "colab": {}
      },
      "source": [
        "nn.kneighbors(...)"
      ],
      "execution_count": null,
      "outputs": []
    },
    {
      "cell_type": "markdown",
      "metadata": {
        "id": "upH6twqACnTr",
        "colab_type": "text"
      },
      "source": [
        "## Challenge\n",
        "\n",
        "You should already be familiar with KNN and similarity queries, so the key component of this section is know what to 'slice' from your autoencoder (the encoder) to extract features from your data. "
      ]
    },
    {
      "cell_type": "markdown",
      "metadata": {
        "id": "ICwm7L34CnTs",
        "colab_type": "text"
      },
      "source": [
        "# Review\n",
        "\n",
        "* <a href=\"#p1\">Part 1</a>: Describe the componenets of an autoencoder\n",
        "    - Enocder\n",
        "    - Decoder\n",
        "* <a href=\"#p2\">Part 2</a>: Train an autoencoder\n",
        "    - Can do in Keras Easily\n",
        "    - Can use a variety of architectures\n",
        "    - Architectures must follow hourglass shape\n",
        "* <a href=\"#p3\">Part 3</a>: Apply an autoenocder to a basic information retrieval problem\n",
        "    - Extract just the encoder to use for various tasks\n",
        "    - AE ares good for dimensionality reduction, reverse image search, and may more things. \n"
      ]
    },
    {
      "cell_type": "markdown",
      "metadata": {
        "id": "Pdee5f87CnTu",
        "colab_type": "text"
      },
      "source": [
        "# Sources\n",
        "\n",
        "__References__\n",
        "- [Building Autoencoders in Keras](https://blog.keras.io/building-autoencoders-in-keras.html)\n",
        "- [Deep Learning Cookbook](http://shop.oreilly.com/product/0636920097471.do)\n",
        "\n",
        "__Additional Material__"
      ]
    }
  ]
}